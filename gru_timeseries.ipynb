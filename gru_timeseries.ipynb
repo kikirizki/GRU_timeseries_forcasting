{
 "cells": [
  {
   "cell_type": "code",
   "execution_count": 1,
   "metadata": {},
   "outputs": [],
   "source": [
    "import torch\n",
    "import torch.nn as nn\n",
    "import math\n",
    "from torch.autograd import Variable\n",
    "from torch.utils.data import Dataset\n",
    "import numpy as np\n",
    "import pandas as pd\n",
    "import matplotlib.pyplot as plt"
   ]
  },
  {
   "cell_type": "markdown",
   "metadata": {},
   "source": [
    "Misal $d_t$ adalah data pada waktu ke-$t$, dengan $1\\leq t\\leq n$  dan $w$ adalah  ukuran window. Kode di bawah akan menghasilkan dataset berupa himpunan $\\mathbb{D}=\\{(\\mathbf{x}^{(k)},\\mathbf{y}^{(k)})|\\mathbf{x}^{(k)},\\mathbf{y}^{(k)}\\in \\mathbb{R}^{w},k=1,\\dots  ,n-w+1\\}$ dimana $\\mathbf{x}^{k}_{i}=d_{i+k-1}$ dan  $\\mathbf{y}^{k}_{i}=d_{i+k}$.\n",
    "Contoh, diberikan data \n",
    "\n",
    "|waktu         |   keuntungan | \n",
    "|---|---|\n",
    "|april-2001    |   10|           \n",
    "|mei-2001      |   43|\n",
    "|juni-2001     |   76|\n",
    "|juli-2001     |   89|\n",
    "|agustus-2001  |   66|\n",
    "|september-2001|   29|\n",
    "|oktober-2001  |   16|\n",
    "|november-2001 |   99|\n",
    "\n",
    "Jika $w$ (window size) adalah $3$ maka data yang daset yang digenerate adalah\n",
    "$[(10,43,76),(43,76,89)],[(43,76,89),(76,89,66)]$ dan seterusnya\n",
    "\n"
   ]
  },
  {
   "cell_type": "code",
   "execution_count": 2,
   "metadata": {},
   "outputs": [],
   "source": [
    "class Pembaca_CSV(Dataset):\n",
    "    def __init__(self, window_size, csv_path,column):\n",
    "        df = pd.read_csv(csv_path)\n",
    "        ys = np.array(df[column])\n",
    "        self.nilai_maksimum= max(ys)\n",
    "        #Normalisasi nilai Y\n",
    "        self.ys = ys / self.nilai_maksimum\n",
    "        self.window_size = window_size\n",
    "    def __len__(self):\n",
    "        return len(self.ys) - self.window_size\n",
    "    def __getitem__(self, idx):\n",
    "        data_x = self.ys[idx:idx + self.window_size].squeeze()\n",
    "        data_y = self.ys[idx + self.window_size]\n",
    "        return torch.tensor(data_x).to(torch.float), torch.tensor(data_y).to(torch.float)\n",
    "    def hitung_maksimum(self):\n",
    "        return self.nilai_maksimum"
   ]
  },
  {
   "cell_type": "markdown",
   "metadata": {},
   "source": [
    "Implementasi GRU cell menggunakan module nn PyTorch \n"
   ]
  },
  {
   "cell_type": "code",
   "execution_count": 3,
   "metadata": {},
   "outputs": [],
   "source": [
    "class GRUCell(nn.Module):\n",
    "\n",
    "    def __init__(self, input_size, hidden_size, bias=True):\n",
    "        super(GRUCell, self).__init__()\n",
    "        self.input_size = input_size\n",
    "        self.hidden_size = hidden_size\n",
    "        self.bias = bias\n",
    "        self.x2h = nn.Linear(input_size, 3 * hidden_size, bias=bias)\n",
    "        self.h2h = nn.Linear(hidden_size, 3 * hidden_size, bias=bias)\n",
    "        self.reset_parameters()\n",
    "\n",
    "    def reset_parameters(self):\n",
    "        std = 1.0 / math.sqrt(self.hidden_size)\n",
    "        for w in self.parameters():\n",
    "            w.data.uniform_(-std, std)\n",
    "\n",
    "    def forward(self, x, hidden):\n",
    "        x = x.view(-1, x.size(1))\n",
    "\n",
    "        gate_x = self.x2h(x)\n",
    "        gate_h = self.h2h(hidden)\n",
    "\n",
    "        if gate_x.shape[0] > 1:\n",
    "            gate_x = gate_x.squeeze()\n",
    "            gate_h = gate_h.squeeze()\n",
    "\n",
    "        i_r, i_i, i_n = gate_x.chunk(3, 1)\n",
    "        h_r, h_i, h_n = gate_h.chunk(3, 1)\n",
    "\n",
    "        resetgate = torch.sigmoid(i_r + h_r)\n",
    "        inputgate = torch.sigmoid(i_i + h_i)\n",
    "        newgate = torch.tanh(i_n + (resetgate * h_n))\n",
    "\n",
    "        hy = newgate + inputgate * (hidden - newgate)\n",
    "\n",
    "        return hy\n"
   ]
  },
  {
   "cell_type": "code",
   "execution_count": 4,
   "metadata": {},
   "outputs": [],
   "source": [
    "class GRUModel(nn.Module):\n",
    "    def __init__(self, input_dim, hidden_dim, layer_dim, output_dim, bias=True):\n",
    "        super(GRUModel, self).__init__()\n",
    "        # Dimensi hidden layer\n",
    "        self.hidden_dim = hidden_dim\n",
    "\n",
    "        # Banyaknya Hidden layer\n",
    "        self.layer_dim = layer_dim\n",
    "\n",
    "        self.gru_cell = GRUCell(input_dim, hidden_dim, layer_dim)\n",
    "\n",
    "        self.fc = nn.Linear(hidden_dim, output_dim)\n",
    "\n",
    "    def forward(self, x):\n",
    "\n",
    "\n",
    "        h0 = Variable(torch.zeros(self.layer_dim, x.size(0), self.hidden_dim))\n",
    "\n",
    "        outs = []\n",
    "\n",
    "        hn = h0[0, :, :]\n",
    "\n",
    "        for seq in range(x.size(1)):\n",
    "            hn = self.gru_cell(x[:, seq, :], hn)\n",
    "            outs.append(hn)\n",
    "\n",
    "        out = outs[-1].squeeze()\n",
    "\n",
    "        out = self.fc(out)\n",
    "        # out.size() --> 100, 10\n",
    "        return out"
   ]
  },
  {
   "cell_type": "code",
   "execution_count": 5,
   "metadata": {},
   "outputs": [],
   "source": [
    "batch_size = 100\n",
    "n_iters = 1200\n",
    "window_size = 60\n",
    "\n",
    "#test_dataset hanya memiliki ukuran 1 batc\n",
    "train_dataset = Pembaca_CSV(window_size,'train.csv','keuntungan')\n",
    "\n",
    "test_dataset = Pembaca_CSV(window_size,'test.csv','keuntungan')\n",
    "\n",
    "num_epochs = n_iters / (len(train_dataset) / batch_size)\n",
    "num_epochs = int(num_epochs)\n",
    "\n",
    "train_loader = torch.utils.data.DataLoader(dataset=train_dataset,\n",
    "                                           batch_size=batch_size,\n",
    "                                           shuffle=True)\n",
    "\n",
    "test_loader = torch.utils.data.DataLoader(dataset=test_dataset,\n",
    "                                          batch_size=1,\n",
    "                                          shuffle=False)\n",
    "\n"
   ]
  },
  {
   "cell_type": "markdown",
   "metadata": {},
   "source": []
  },
  {
   "cell_type": "code",
   "execution_count": 6,
   "metadata": {},
   "outputs": [],
   "source": [
    "input_dim = 1\n",
    "hidden_dim = 256\n",
    "layer_dim = 1  \n",
    "output_dim = 1\n",
    "model = GRUModel(input_dim, hidden_dim, layer_dim, output_dim)\n",
    "criterion = nn.MSELoss()\n",
    "learning_rate = 0.01\n",
    "optimizer = torch.optim.Adam(model.parameters())\n",
    "seq_dim = window_size"
   ]
  },
  {
   "cell_type": "markdown",
   "metadata": {},
   "source": [
    "Mulai melatih jaringan saraf tiruan dengan algoritma optimasi adam dan fungsi error MSE\n",
    "\n"
   ]
  },
  {
   "cell_type": "code",
   "execution_count": 7,
   "metadata": {},
   "outputs": [],
   "source": [
    "import torch\n",
    "from torch.autograd import Variable\n",
    "import matplotlib.pyplot as plt\n",
    "\n",
    "\n",
    "def fit(num_epochs,  optimizer, test_loader, train_loader, model, criterion, input_dim, seq_dim):\n",
    "    iter = 0\n",
    "    for epoch in range(num_epochs):\n",
    "        for i, (images, labels) in enumerate(train_loader):\n",
    "            \n",
    "            images = Variable(images.view(-1, seq_dim, input_dim))\n",
    "            labels = Variable(labels.view(-1, 1))\n",
    "            # Clear gradients w.r.t. parameters\n",
    "            optimizer.zero_grad()\n",
    "\n",
    "            # Forward pass to get output/logits\n",
    "            # outputs.size() --> 100, 10\n",
    "            images = images.to(torch.float)\n",
    "            labels = labels.to(torch.float)\n",
    "\n",
    "            outputs = model(images)\n",
    "\n",
    "            # Calculate Loss: softmax --> cross entropy loss\n",
    "\n",
    "            loss = criterion(labels, outputs)\n",
    "         \n",
    "\n",
    "            # Getting gradients w.r.t. parameters\n",
    "            loss.backward()\n",
    "\n",
    "            # Updating parameters\n",
    "            optimizer.step()\n",
    "\n",
    "            # loss_list.append(loss.item())\n",
    "            iter += 1\n",
    "\n",
    "            if iter % 500 == 0:\n",
    "\n",
    "                total = 0\n",
    "                for images, labels in test_loader:\n",
    "\n",
    "                    images = Variable(images.view(-1, seq_dim, input_dim))\n",
    "\n",
    "                    outputs = model(images)\n",
    "\n",
    "                # Print Loss\n",
    "                print('Iteration: {}. Loss: {}.'.format(iter, loss.item()))\n",
    "    torch.save(model.state_dict(),\"gru_weight.pt\")\n"
   ]
  },
  {
   "cell_type": "code",
   "execution_count": 8,
   "metadata": {},
   "outputs": [],
   "source": [
    "#fit(num_epochs, optimizer, test_loader, train_loader, model, criterion, input_dim, seq_dim)\n",
    "model.load_state_dict(torch.load(\"gru_weight.pt\"))\n",
    "model = model.eval()\n"
   ]
  },
  {
   "cell_type": "code",
   "execution_count": 9,
   "metadata": {},
   "outputs": [],
   "source": [
    "def multi_steps_forecasting(model, steps, input_data):\n",
    "    input_data = input_data.unsqueeze(0).unsqueeze(-1)\n",
    "    result = []\n",
    "    for i in range(steps):\n",
    "        o = model.forward(input_data)\n",
    "        input_data = torch.cat((input_data[:, 1:, :], o.unsqueeze(0).unsqueeze(-1)), 1)\n",
    "        result.append(o.squeeze().detach().numpy())\n",
    "    return np.array(result)\n",
    "\n",
    "\n",
    "def plot_multisteps_forecasting(scale,predictions, real_data,steps):\n",
    "    real_data = real_data.squeeze().squeeze(-1)    \n",
    "    real_data_size = len(real_data)\n",
    "    fig = plt.figure()\n",
    "    ax = plt.subplot(111)\n",
    "    ax.plot(scale * real_data, 'b',label=\"Data sebenarnya\")\n",
    "    ax.plot(np.arange(real_data_size - steps, real_data_size + len(predictions) - steps), scale * predictions, 'r--',label=\"Prediksi\")\n",
    "    ax.legend()\n",
    "    plt.show()\n"
   ]
  },
  {
   "cell_type": "markdown",
   "metadata": {},
   "source": [
    "Tampilkan hasil prediksi untuk 10 timestep ke depan"
   ]
  },
  {
   "cell_type": "code",
   "execution_count": 10,
   "metadata": {},
   "outputs": [],
   "source": [
    "def multi_steps_forecasting(model, steps, input_data):\n",
    "    input_data = input_data.unsqueeze(0).unsqueeze(-1)\n",
    "    result = []\n",
    "    for i in range(steps):\n",
    "        o = model.forward(input_data)\n",
    "        input_data = torch.cat((input_data[:, 1:, :], o.unsqueeze(0).unsqueeze(-1)), 1)\n",
    "        result.append(o.squeeze().detach().numpy())\n",
    "    return np.array(result)\n",
    "\n",
    "\n",
    "def plot_multisteps_forecasting(predictions, real_data,steps):\n",
    "    print(predictions)\n",
    "    real_data = real_data.squeeze().squeeze(-1)    \n",
    "    real_data_size = len(real_data)\n",
    "    fig = plt.figure()\n",
    "    ax = plt.subplot(111)\n",
    "    ax.plot(real_data, 'b',label=\"Data sebenarnya\")\n",
    "    ax.plot(real_data,)\n",
    "    ax.plot(np.arange(real_data_size - steps, real_data_size + len(predictions) - steps),  predictions, 'r--',label=\"Prediksi\")\n",
    "    ax.legend()\n",
    "    plt.show()\n"
   ]
  },
  {
   "cell_type": "code",
   "execution_count": 38,
   "metadata": {},
   "outputs": [
    {
     "name": "stdout",
     "output_type": "stream",
     "text": [
      "Hasil_prediksi : 140.63424682617188 data_sebenarnya : 152.90000915527344\n",
      "Hasil_prediksi : 138.59014892578125 data_sebenarnya : 135.50001525878906\n",
      "Hasil_prediksi : 140.31918334960938 data_sebenarnya : 148.5\n",
      "Hasil_prediksi : 143.1083221435547 data_sebenarnya : 148.40000915527344\n",
      "Hasil_prediksi : 152.80003356933594 data_sebenarnya : 133.59999084472656\n",
      "Hasil_prediksi : 167.23248291015625 data_sebenarnya : 194.10000610351562\n",
      "Hasil_prediksi : 182.66464233398438 data_sebenarnya : 208.60000610351562\n",
      "Hasil_prediksi : 182.1256866455078 data_sebenarnya : 197.3000030517578\n",
      "Hasil_prediksi : 147.80584716796875 data_sebenarnya : 164.39999389648438\n",
      "Hasil_prediksi : 150.55662536621094 data_sebenarnya : 148.09999084472656\n",
      "Hasil_prediksi : 157.15902709960938 data_sebenarnya : 152.0\n",
      "Hasil_prediksi : 146.99636840820312 data_sebenarnya : 144.10000610351562\n",
      "Hasil_prediksi : 140.4568634033203 data_sebenarnya : 155.0\n",
      "Hasil_prediksi : 137.41659545898438 data_sebenarnya : 124.5\n",
      "Hasil_prediksi : 138.68434143066406 data_sebenarnya : 153.0\n",
      "Hasil_prediksi : 143.22242736816406 data_sebenarnya : 146.0\n",
      "Hasil_prediksi : 152.60116577148438 data_sebenarnya : 138.0\n",
      "Hasil_prediksi : 170.6752471923828 data_sebenarnya : 190.0\n",
      "Hasil_prediksi : 185.2233428955078 data_sebenarnya : 192.0\n",
      "Hasil_prediksi : 176.99533081054688 data_sebenarnya : 192.0\n",
      "Hasil_prediksi : 145.97198486328125 data_sebenarnya : 147.0\n",
      "Hasil_prediksi : 151.6585693359375 data_sebenarnya : 133.0\n",
      "Hasil_prediksi : 161.73448181152344 data_sebenarnya : 163.0\n",
      "Hasil_prediksi : 147.81719970703125 data_sebenarnya : 150.00001525878906\n",
      "Hasil_prediksi : 143.3534698486328 data_sebenarnya : 129.0\n",
      "Hasil_prediksi : 138.5703887939453 data_sebenarnya : 131.0\n",
      "Hasil_prediksi : 140.27439880371094 data_sebenarnya : 145.0\n",
      "Hasil_prediksi : 147.0067901611328 data_sebenarnya : 137.0\n",
      "Hasil_prediksi : 156.6336212158203 data_sebenarnya : 138.0\n",
      "Hasil_prediksi : 174.74014282226562 data_sebenarnya : 168.00001525878906\n",
      "Hasil_prediksi : 186.11404418945312 data_sebenarnya : 176.0\n",
      "Hasil_prediksi : 170.65353393554688 data_sebenarnya : 188.0\n",
      "Hasil_prediksi : 149.6089630126953 data_sebenarnya : 139.0\n",
      "Hasil_prediksi : 157.7893829345703 data_sebenarnya : 143.0\n",
      "Hasil_prediksi : 164.5613555908203 data_sebenarnya : 150.00001525878906\n",
      "Hasil_prediksi : 152.6297149658203 data_sebenarnya : 154.0\n"
     ]
    }
   ],
   "source": [
    "n_th_sample = 0\n",
    "steps = 36\n",
    "sample, true_prediction = test_dataset[n_th_sample]\n",
    "data_sebenarnya, _ = test_dataset[n_th_sample + steps]\n",
    "maksimum = test_dataset.hitung_maksimum()\n",
    "hasil_prediksi = multi_steps_forecasting( model, steps, sample)\n",
    "\n",
    "#Melakukan denormalisasi data\n",
    "hasil_prediksi = maksimum * hasil_prediksi\n",
    "data_sebenarnya = maksimum * data_sebenarnya\n",
    "\n",
    "for f,a in zip(hasil_prediksi,data_sebenarnya):\n",
    "    print(\"Hasil_prediksi : {} data_sebenarnya : {}\".format(f,a))\n",
    "\n"
   ]
  },
  {
   "cell_type": "markdown",
   "metadata": {},
   "source": [
    "Plot terhadap data baru"
   ]
  },
  {
   "cell_type": "code",
   "execution_count": 39,
   "metadata": {},
   "outputs": [
    {
     "name": "stdout",
     "output_type": "stream",
     "text": [
      "[140.63425 138.59015 140.31918 143.10832 152.80003 167.23248 182.66464\n",
      " 182.12569 147.80585 150.55663 157.15903 146.99637 140.45686 137.4166\n",
      " 138.68434 143.22243 152.60117 170.67525 185.22334 176.99533 145.97198\n",
      " 151.65857 161.73448 147.8172  143.35347 138.57039 140.2744  147.00679\n",
      " 156.63362 174.74014 186.11404 170.65353 149.60896 157.78938 164.56136\n",
      " 152.62971]\n"
     ]
    },
    {
     "data": {
      "image/png": "[encoded data removed]",
      "text/plain": [
       "<Figure size 432x288 with 1 Axes>"
      ]
     },
     "metadata": {},
     "output_type": "display_data"
    }
   ],
   "source": [
    "plot_multisteps_forecasting(hasil_prediksi, data_sebenarnya,steps)"
   ]
  },
  {
   "cell_type": "code",
   "execution_count": 40,
   "metadata": {},
   "outputs": [],
   "source": [
    "def hitung_mape(data_sebenarnya,hasil_prediksi):\n",
    "    #banyaknya data\n",
    "    n = len(hasil_prediksi)\n",
    "    tot = 0.0\n",
    "    for t in range(n):\n",
    "        At = data_sebenarnya[t]\n",
    "        Ft = hasil_prediksi[t]\n",
    "        tot +=np.abs((At-Ft)/At)\n",
    "    return ((100.0/float(n))*tot).numpy()    \n",
    "        "
   ]
  },
  {
   "cell_type": "code",
   "execution_count": 43,
   "metadata": {},
   "outputs": [
    {
     "name": "stdout",
     "output_type": "stream",
     "text": [
      "Melakukan prediksi sebanyak langkah 36 kedepan menghasilkan MAPE 7.040910243988037 % \n"
     ]
    }
   ],
   "source": [
    "hasil = hitung_mape(data_sebenarnya,hasil_prediksi)\n",
    "print(\"Melakukan prediksi sebanyak langkah {} kedepan menghasilkan MAPE {} % \".format(steps,hasil))"
   ]
  },
  {
   "cell_type": "code",
   "execution_count": null,
   "metadata": {},
   "outputs": [],
   "source": []
  },
  {
   "cell_type": "code",
   "execution_count": null,
   "metadata": {},
   "outputs": [],
   "source": []
  }
 ],
 "metadata": {
  "kernelspec": {
   "display_name": "Python 3",
   "language": "python",
   "name": "python3"
  },
  "language_info": {
   "codemirror_mode": {
    "name": "ipython",
    "version": 3
   },
   "file_extension": ".py",
   "mimetype": "text/x-python",
   "name": "python",
   "nbconvert_exporter": "python",
   "pygments_lexer": "ipython3",
   "version": "3.6.8"
  }
 },
 "nbformat": 4,
 "nbformat_minor": 2
}
