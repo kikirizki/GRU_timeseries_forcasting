{
 "cells": [
  {
   "cell_type": "markdown",
   "metadata": {},
   "source": [
    "Import package yang dibutuhkan"
   ]
  },
  {
   "cell_type": "code",
   "execution_count": 1,
   "metadata": {},
   "outputs": [],
   "source": [
    "import torch\n",
    "import torch.nn as nn\n",
    "\n",
    "from forecast import multi_steps_forecasting, plot_multisteps_forecasting\n",
    "from gru_model import GRUModel\n",
    "from my_dataloader import MyDataset\n",
    "from trainer import fit\n"
   ]
  },
  {
   "cell_type": "markdown",
   "metadata": {},
   "source": [
    "Cek apakah komputer memiliki kartu grafis jika memiliki kartu grafis PyTorch akan menggunakan kartu grafis"
   ]
  },
  {
   "cell_type": "code",
   "execution_count": 2,
   "metadata": {},
   "outputs": [],
   "source": [
    "cuda = True if torch.cuda.is_available() else False\n",
    "\n",
    "Tensor = torch.cuda.FloatTensor if cuda else torch.FloatTensor\n",
    "\n",
    "torch.manual_seed(125)\n",
    "if torch.cuda.is_available():\n",
    "    torch.cuda.manual_seed_all(125)"
   ]
  },
  {
   "cell_type": "markdown",
   "metadata": {},
   "source": [
    "Persiapkan dataset, muat dataset dari csv"
   ]
  },
  {
   "cell_type": "code",
   "execution_count": 3,
   "metadata": {},
   "outputs": [],
   "source": [
    "batch_size = 100\n",
    "n_iters = 12000\n",
    "window_size = 60\n",
    "\n",
    "train_dataset = MyDataset(window_size,'data/monthly-beer-production-in-austr.csv','Monthly beer production')\n",
    "test_dataset = MyDataset(window_size,'data/monthly-beer-production-in-austr.csv','Monthly beer production')\n",
    "\n",
    "num_epochs = n_iters / (len(train_dataset) / batch_size)\n",
    "num_epochs = int(num_epochs)\n",
    "\n",
    "train_loader = torch.utils.data.DataLoader(dataset=train_dataset,\n",
    "                                           batch_size=batch_size,\n",
    "                                           shuffle=True)\n",
    "\n",
    "test_loader = torch.utils.data.DataLoader(dataset=test_dataset,\n",
    "                                          batch_size=batch_size,\n",
    "                                          shuffle=False)\n",
    "\n"
   ]
  },
  {
   "cell_type": "code",
   "execution_count": 4,
   "metadata": {},
   "outputs": [],
   "source": [
    "input_dim = 1\n",
    "hidden_dim = 256\n",
    "layer_dim = 1  \n",
    "output_dim = 1\n",
    "\n",
    "model = GRUModel(input_dim, hidden_dim, layer_dim, output_dim)\n",
    "\n",
    "if torch.cuda.is_available():\n",
    "    model.cuda()\n",
    "\n",
    "criterion = nn.MSELoss()\n",
    "learning_rate = 0.01\n",
    "optimizer = torch.optim.Adam(model.parameters())\n",
    "\n",
    "seq_dim = window_size"
   ]
  },
  {
   "cell_type": "markdown",
   "metadata": {},
   "source": [
    "Train model"
   ]
  },
  {
   "cell_type": "code",
   "execution_count": 5,
   "metadata": {},
   "outputs": [
    {
     "name": "stderr",
     "output_type": "stream",
     "text": [
      "/usr/local/lib/python3.6/dist-packages/torch/nn/functional.py:1386: UserWarning: nn.functional.sigmoid is deprecated. Use torch.sigmoid instead.\n",
      "  warnings.warn(\"nn.functional.sigmoid is deprecated. Use torch.sigmoid instead.\")\n",
      "/usr/local/lib/python3.6/dist-packages/torch/nn/functional.py:1374: UserWarning: nn.functional.tanh is deprecated. Use torch.tanh instead.\n",
      "  warnings.warn(\"nn.functional.tanh is deprecated. Use torch.tanh instead.\")\n"
     ]
    },
    {
     "name": "stdout",
     "output_type": "stream",
     "text": [
      "Iteration: 500. Loss: 0.0038563087582588196.\n",
      "Iteration: 1000. Loss: 0.00206716638058424.\n",
      "Iteration: 1500. Loss: 0.0027206840459257364.\n",
      "Iteration: 2000. Loss: 0.0025047557428479195.\n",
      "Iteration: 2500. Loss: 0.002270839177072048.\n",
      "Iteration: 3000. Loss: 0.001097846427001059.\n",
      "Iteration: 3500. Loss: 0.0014637033455073833.\n",
      "Iteration: 4000. Loss: 0.0014806052204221487.\n",
      "Iteration: 4500. Loss: 0.001524181105196476.\n",
      "Iteration: 5000. Loss: 0.00030978675931692123.\n",
      "Iteration: 5500. Loss: 0.0008738096803426743.\n",
      "Iteration: 6000. Loss: 0.0002249917306471616.\n",
      "Iteration: 6500. Loss: 0.0004374078707769513.\n",
      "Iteration: 7000. Loss: 0.00028041354380548.\n",
      "Iteration: 7500. Loss: 0.00013955787289887667.\n",
      "Iteration: 8000. Loss: 0.00024114406551234424.\n",
      "Iteration: 8500. Loss: 5.792851879959926e-05.\n",
      "Iteration: 9000. Loss: 2.960596975754015e-05.\n",
      "Iteration: 9500. Loss: 1.4428418580791913e-05.\n",
      "Iteration: 10000. Loss: 9.724413757794537e-06.\n",
      "Iteration: 10500. Loss: 8.873979822965339e-06.\n",
      "Iteration: 11000. Loss: 7.274781819432974e-05.\n",
      "Iteration: 11500. Loss: 9.38146113185212e-05.\n",
      "Iteration: 12000. Loss: 1.539551158202812e-05.\n",
      "Iteration: 12500. Loss: 5.3817853768123314e-05.\n",
      "Iteration: 13000. Loss: 2.0301480617490597e-05.\n",
      "Iteration: 13500. Loss: 4.965687185176648e-05.\n",
      "Iteration: 14000. Loss: 1.3342350939637981e-05.\n"
     ]
    }
   ],
   "source": [
    "fit(num_epochs, optimizer, test_loader, train_loader, model, criterion, input_dim, seq_dim)\n",
    "model.load_state_dict(torch.load(\"gru_weight.pt\"))\n",
    "model = model.eval()\n"
   ]
  },
  {
   "cell_type": "markdown",
   "metadata": {},
   "source": [
    "Tampilkan hasil prediksi untuk 10 timestep ke depan"
   ]
  },
  {
   "cell_type": "code",
   "execution_count": 6,
   "metadata": {},
   "outputs": [
    {
     "name": "stderr",
     "output_type": "stream",
     "text": [
      "/usr/local/lib/python3.6/dist-packages/torch/nn/functional.py:1386: UserWarning: nn.functional.sigmoid is deprecated. Use torch.sigmoid instead.\n",
      "  warnings.warn(\"nn.functional.sigmoid is deprecated. Use torch.sigmoid instead.\")\n",
      "/usr/local/lib/python3.6/dist-packages/torch/nn/functional.py:1374: UserWarning: nn.functional.tanh is deprecated. Use torch.tanh instead.\n",
      "  warnings.warn(\"nn.functional.tanh is deprecated. Use torch.tanh instead.\")\n"
     ]
    },
    {
     "name": "stdout",
     "output_type": "stream",
     "text": [
      "[0.37668595 0.41710204 0.43758917 0.53006744 0.55637854 0.5730258\n",
      " 0.48809847 0.43623716 0.48317882 0.4548024 ]\n"
     ]
    },
    {
     "data": {
      "image/png": "[encoded data removed]",
      "text/plain": [
       "<Figure size 432x288 with 1 Axes>"
      ]
     },
     "metadata": {
      "needs_background": "light"
     },
     "output_type": "display_data"
    }
   ],
   "source": [
    "n_th_sample = 18\n",
    "steps = 10\n",
    "\n",
    "sample, true_prediction = train_dataset[n_th_sample]\n",
    "sample1, _ = train_dataset[n_th_sample + steps]\n",
    "scale = train_dataset.get_scale()\n",
    "multi_step_prediction_results = multi_steps_forecasting( model, steps, sample)\n",
    "plot_multisteps_forecasting(scale,multi_step_prediction_results, sample1)"
   ]
  },
  {
   "cell_type": "code",
   "execution_count": null,
   "metadata": {},
   "outputs": [],
   "source": []
  }
 ],
 "metadata": {
  "kernelspec": {
   "display_name": "Python 3",
   "language": "python",
   "name": "python3"
  },
  "language_info": {
   "codemirror_mode": {
    "name": "ipython",
    "version": 3
   },
   "file_extension": ".py",
   "mimetype": "text/x-python",
   "name": "python",
   "nbconvert_exporter": "python",
   "pygments_lexer": "ipython3",
   "version": "3.6.7"
  }
 },
 "nbformat": 4,
 "nbformat_minor": 2
}
